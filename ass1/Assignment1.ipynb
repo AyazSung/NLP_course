{
 "cells": [
  {
   "cell_type": "markdown",
   "metadata": {
    "id": "RKboZnAdgrRM"
   },
   "source": [
    "# [NLP] Assignment 1: Tokenization\n",
    "\n",
    "In this assignment, you need to tokenize the text of the Twitter(X) users posts(tweets). The assignment consists of two tasks. When you finish all the tasks, create a GitHub repository for this assignment (you can use this repo later for the other assignments) and submit this notebook in the repository. Leave `requirements.txt` file if your code requires additional installations. Submit the link to the repository in Moodle.\n",
    "\n",
    "The [data](https://drive.google.com/file/d/15x_wPAflvYQ2Xh38iNQGrqUIWLj5l5Nw/view?usp=share_link) contains 5 files whereby each contains 44 tweets. Each tweet is separated by a newline."
   ]
  },
  {
   "cell_type": "markdown",
   "metadata": {
    "id": "aLDjjAvemUP_"
   },
   "source": [
    "## Task 1. Tokenize some tweets manually (20 points)\n",
    "\n",
    "As a first task you need to tokenize first 15 tweets from `file2` by hand. This will allow you to understand the problem from a linguistic point of view. The guidelines for tweet tokenization are as follows:\n",
    "\n",
    "- Each smiley is a separate token\n",
    "- Each hashtag is an individual token. Each user reference is an individual token\n",
    "- If a word has spaces between them then it is converted to a single token\n",
    "- All punctuations are individual tokens. This includes double-quotes and single quotes also\n",
    "- A URL is a single token\n",
    "\n",
    "Example of output\n",
    "\n",
    "    Input tweet\n",
    "    @xfranman Old age has made N A T O!\n",
    "\n",
    "    Tokenized tweet (separated by comma)\n",
    "    @xfranman , Old , age , has , made , NATO , !"
   ]
  },
  {
   "cell_type": "markdown",
   "metadata": {
    "id": "7KKKwTidnzUw"
   },
   "source": [
    "\n",
    "    1. Input tweet\n",
    "    ...\n",
    "    1. Tokenized tweet\n",
    "    ...\n",
    "\n",
    "    2. Input tweet\n",
    "    ...\n",
    "    2. Tokenized tweet\n",
    "    ..."
   ]
  },
  {
   "cell_type": "code",
   "execution_count": 55,
   "outputs": [
    {
     "data": {
      "text/plain": "['Camping in Maine for the weekend. Hey Dad, Mama Loves YOU: http://www.mamapalooza.com',\n 'Its american tradition bitch',\n \"@ThroughTheVoid They love it! The only pleasure they get in life. I actually do that. I'm sure I hear a tiny squeak... Then louder ones\",\n '\" RT @latti: @AbsoHilare stop tweeting in church! Lol <--- \"\"I tweet because I\\'m happy, I tweet because I\\'m free\"\" LOL!\"',\n \"Samsung Mini S2 portable HDD graced with colors that perfectly match your tacky beach gear: Sammy's done it aga.. http://tinyurl.com/lb5p6m\",\n \"@dialloc congrats on finding your way over. it may be slow going at first. hang in there. it's kinda cool when u get up to speed.\",\n 'iPhone activation delays continue, Apple offers $30 http://twt.gs/l3Ki',\n 'RT @GoogleAtWork Gmail maximum attachment size now 25MB http://bit.ly/62mjw Nice!!!',\n \"RT @acfou The Ads Won Awards for Crispin; But Did Nothing for Client BurgerKing's Sales/Marketshare - Big Surprise - http://ping.fm/vw8TI\",\n 'Hey doll! Great I missed True Blood yday boo lol Rt @FrankBanuat78 @jhillstephens Hello Sunshine how are u today? :-)',\n 'Australian artist Pogo made these free songs primarily from sampled audio from Alice In Wonderland. http://www.last.fm/music/Pogo/Wonderland',\n \"@mppritchard they wanted to sell all the preorders & then sell all of the ones they had in stock to those that just walked in. Can't do both\",\n 'Incoming: Frightened Rabbit, Sept. 22 (Tucson): If Fat Cat Records is going to send three great bands from Scot.. http://tinyurl.com/nz6xcv',\n 'Hey @ginoandfran please greet philip! (GinoandFran live > http://ustre.am/2YyQ)',\n \"Ik weet niet wie er achter de T-Mobile iPhone Twitter zit maar ik vind het niet echt 'corporate' taalgebruik... Best vreemd eigenlijk\"]"
     },
     "execution_count": 55,
     "metadata": {},
     "output_type": "execute_result"
    }
   ],
   "source": [
    "# read file2 as txt file\n",
    "with open('file2', 'r') as f:\n",
    "    file2 = f.read()\n",
    "\n",
    "file2 = file2.split('\\n')\n",
    "file2 = file2[:15]\n",
    "file2"
   ],
   "metadata": {
    "collapsed": false,
    "ExecuteTime": {
     "end_time": "2024-02-03T12:24:50.434506200Z",
     "start_time": "2024-02-03T12:24:50.265387600Z"
    }
   }
  },
  {
   "cell_type": "markdown",
   "source": [
    "1.Camping in Maine for the weekend. Hey Dad, Mama Loves YOU: http://www.mamapalooza.com\n",
    "1.Camping, in, Maine, for, the, weekend , ., Hey, Dad, ,, Mama, Loves, YOU, :, http://www.mamapalooza.com\n",
    "\n",
    "\n",
    "2.Its american tradition bitch\n",
    "2.Its, american, tradition, bitch\n",
    "\n",
    "\n",
    "3.@ThroughTheVoid They love it! The only pleasure they get in life. I actually do that. I'm sure I hear a tiny squeak... Then louder ones\n",
    "3.@ThroughTheVoid, They, love, it, !, The, only, pleasure, they, get, in, life, ., I, actually, do, that, ., I'm, sure, I, hear, a, tiny, squeak, ..., Then, louder, ones\n",
    " \n",
    "\n",
    "4.\" RT @latti: @AbsoHilare stop tweeting in church! Lol <--- \"\"I tweet because I\\'m happy, I tweet because I\\'m free\"\" LOL!\"\n",
    "4.\", RT, @latti, :, @AbsoHilare, stop, tweeting, in, church, !, Lol, <---, \"\" ,I , tweet, because, I\\'m, happy, ,, I, tweet, because, I\\'m, free, \"\", LOL, !, \"\n",
    " \n",
    "\n",
    "5.Samsung Mini S2 portable HDD graced with colors that perfectly match your tacky beach gear: Sammy's done it aga.. http://tinyurl.com/lb5p6m\n",
    "5.Samsung, Mini, S2, portable, HDD, graced, with, colors, that, perfectly, match, your, tacky, beach, gear, :, Sammy's, done, it, aga, .., http://tinyurl.com/lb5p6m\n",
    "\n",
    "\n",
    "6.@dialloc congrats on finding your way over. it may be slow going at first. hang in there. it's kinda cool when u get up to speed.\n",
    "6.@dialloc, congrats, on, finding, your, way, over, ., it, may, be, slow, going, at, first, ., hang, in, there, ., it's, kinda, cool, when, u, get, up, to, speed, .\n",
    "\n",
    "\n",
    "7.iPhone activation delays continue, Apple offers $30 http://twt.gs/l3Ki\n",
    "7.iPhone, activation, delays, continue, ,, Apple, offers, $, 30, http://twt.gs/l3Ki\n",
    "\n",
    "\n",
    "8.RT @GoogleAtWork Gmail maximum attachment size now 25MB http://bit.ly/62mjw Nice!!!\n",
    "8.RT, @GoogleAtWork, Gmail, maximum, attachment, size, now, 25, MB, http://bit.ly/62mjw, Nice, !!!\n",
    "\n",
    "\n",
    "9.RT @acfou The Ads Won Awards for Crispin; But Did Nothing for Client BurgerKing's Sales/Marketshare - Big Surprise - http://ping.fm/vw8TI\n",
    "9.RT, @acfou, The, Ads, Won, Awards, for, Crispin, ;, But, Did, Nothing, for, Client, BurgerKing's, Sales/Marketshare, -, Big, Surprise, -, http://ping.fm/vw8TI\n",
    "\n",
    "\n",
    "10.Hey doll! Great I missed True Blood yday boo lol Rt @FrankBanuat78 @jhillstephens Hello Sunshine how are u today? :-)\n",
    "10.Hey, doll, !, Great, I, missed, True, Blood, yday, boo, lol, Rt, @FrankBanuat78, @jhillstephens, Hello, Sunshine, how, are, u, today, ?, :-)\n",
    "\n",
    "\n",
    "11.Australian artist Pogo made these free songs primarily from sampled audio from Alice In Wonderland. http://www.last.fm/music/Pogo/Wonderland\n",
    "11.Australian, artist, Pogo, made, these, free, songs, primarily, from, sampled, audio, from, Alice, In, Wonderland, ., http://www.last.fm/music/Pogo/Wonderland\n",
    "\n",
    "\n",
    "12.@mppritchard they wanted to sell all the preorders & then sell all of the ones they had in stock to those that just walked in. Can't do both\n",
    "12.@mppritchard, they, wanted, to, sell, all, the, preorders, &, then, sell, all, of, the, ones, they, had, in, stock, to, those, that, just, walked, in, ., Can't, do, both\n",
    "\n",
    "\n",
    "13.Incoming: Frightened Rabbit, Sept. 22 (Tucson): If Fat Cat Records is going to send three great bands from Scot.. http://tinyurl.com/nz6xcv\n",
    "13.Incoming, :, Frightened, Rabbit, ,, Sept., 22, (, Tucson, ), :, If, Fat, Cat, Records, is, going, to, send, three, great, bands, from, Scot, .., http://tinyurl.com/nz6xcv\n",
    "\n",
    "\n",
    "14.Hey @ginoandfran please greet philip! (GinoandFran live > http://ustre.am/2YyQ)\n",
    "14.Hey, @ginoandfran, please, greet, philip, !, (, GinoandFran, live, >, http://ustre.am/2YyQ, )\n",
    "\n",
    "\n",
    "15.Ik weet niet wie er achter de T-Mobile iPhone Twitter zit maar ik vind het niet echt 'corporate' taalgebruik... Best vreemd eigenlijk\n",
    "15.Ik, weet, niet, wie, er, achter, de, T-Mobile, iPhone, Twitter, zit, maar, ik, vind, het, niet, echt, ', corporate, ', taalgebruik, ..., Best, vreemd, eigenlijk"
   ],
   "metadata": {
    "collapsed": false
   }
  },
  {
   "cell_type": "markdown",
   "metadata": {
    "id": "-2J2AD2nmUhi"
   },
   "source": [
    "## Task 2. Implement [Byte-Pair Encoding(BPE)](https://arxiv.org/pdf/1508.07909.pdf) Tokenizer (80 points)\n",
    "\n",
    "### Task 2.1. Implementation (60 points)\n",
    "\n",
    "Implement the tokenizer as the BPETokenizer class:\n",
    "* Implement `train` method that learns merges and builds the vocabulary of the specified `vocab_size` (25 points).\n",
    "* Implement `tokenize` method that should tokenize the text according to the learnt merges (25 points).\n",
    "\n",
    "Your code should have docstrings and comments (10 points)."
   ]
  },
  {
   "cell_type": "code",
   "execution_count": 56,
   "metadata": {
    "ExecuteTime": {
     "end_time": "2024-02-03T12:24:50.437507700Z",
     "start_time": "2024-02-03T12:24:50.299509500Z"
    }
   },
   "outputs": [],
   "source": [
    "from typing import List\n",
    "from tqdm import tqdm\n",
    "\n",
    "\n",
    "class BPETokenizer:\n",
    "\n",
    "    def __init__(self, vocab_size: int) -> None:\n",
    "        self.vocab_size = vocab_size\n",
    "        self.vocab = None\n",
    "        # pairs_order - list of pairs of characters that were merged\n",
    "        self.pairs_order: List[List[str]] = []\n",
    "\n",
    "    def _add_spec_char(self, corpus: str):\n",
    "        # function that adds special characters to the corpus to make it easier to tokenize\n",
    "        # replace all spaces with '_'\n",
    "        \n",
    "        corpus = corpus.replace(' ', '_')\n",
    "        # after each character in corpus[i] add a space\n",
    "        corpus = ' '.join(corpus)\n",
    "        corpus = corpus.split()\n",
    "\n",
    "        return corpus\n",
    "\n",
    "    def train(self, corpus: List[str]) -> None:\n",
    "        # add special characters to the corpus\n",
    "        new_corpus = []\n",
    "        for text in corpus:\n",
    "            new_corpus.append(self._add_spec_char(text))\n",
    "        corpus = new_corpus\n",
    "\n",
    "        # add to vocab all unique characters from corpus\n",
    "        vocab = set()\n",
    "        for text in corpus:\n",
    "            for char in text:\n",
    "                vocab.add(char)\n",
    "        vocab = list(vocab)\n",
    "        vocab.sort()\n",
    "        self.vocab = vocab\n",
    "\n",
    "\n",
    "        \n",
    "        z = 0\n",
    "        while len(self.vocab) < self.vocab_size:\n",
    "            # find the most frequent pair of characters in corpus\n",
    "            freqs = {}\n",
    "\n",
    "            for text in corpus:\n",
    "                if len(text) > 1:\n",
    "                    # text - array of strings\n",
    "                    for i in range(len(text) - 1):\n",
    "                        if text[i] != '_':\n",
    "                            pair = text[i] + text[i + 1]\n",
    "                            if pair in freqs:\n",
    "                                freqs[pair] = [freqs[pair][0] + 1, text[i], text[i + 1]]\n",
    "                            else:\n",
    "                                freqs[pair] = [1, text[i], text[i + 1]]\n",
    "\n",
    "            if len(freqs) == 0:\n",
    "                break\n",
    "\n",
    "            # find the most frequent pair\n",
    "            max_freq = 0\n",
    "            pair = ''\n",
    "            max_value = None\n",
    "            for key in freqs:\n",
    "                if freqs[key][0] > max_freq:\n",
    "                    max_freq = freqs[key][0]\n",
    "                    pair = key\n",
    "                    max_value = freqs[key]\n",
    "\n",
    "            self.pairs_order.append([max_value[1], max_value[2]])\n",
    "\n",
    "            #add the pair to vocab\n",
    "            self.vocab.append(pair)\n",
    "\n",
    "            # merge the pair in corpus\n",
    "            # replace all pairs in corpus with the new pair\n",
    "            for text in corpus:\n",
    "                for i in range(len(text) - 1):\n",
    "                    if text[i] + text[i + 1] == pair:\n",
    "                        text[i] = pair\n",
    "                        text[i + 1] = ''\n",
    "                while '' in text:\n",
    "                    text.remove('')\n",
    "\n",
    "        z += 1\n",
    "\n",
    "    def tokenize(self, text: str) -> List[str]:\n",
    "        # add special characters to the text\n",
    "        text = self._add_spec_char(text)\n",
    "\n",
    "        # tokenize the text\n",
    "        # replace all pairs in text with the new pair\n",
    "        # remove all empty strings from text\n",
    "        for pair in self.pairs_order:\n",
    "            for i in range(len(text) - 1):\n",
    "                if text[i] + text[i + 1] == pair[0] + pair[1]:\n",
    "                    text[i] = pair[0] + pair[1]\n",
    "                    text[i + 1] = ''\n",
    "            while '' in text:\n",
    "                text.remove('')\n",
    "\n",
    "        return text\n",
    "\n"
   ]
  },
  {
   "cell_type": "code",
   "execution_count": 57,
   "outputs": [
    {
     "name": "stdout",
     "output_type": "stream",
     "text": [
      "['disgust', 'i', 'n', 'g']\n",
      "['disgust', 'i', 'n', 'g', 'ly']\n",
      "['n', 'e', 'w', 'e', 'st']\n"
     ]
    }
   ],
   "source": [
    "text_corpus = ['low', 'lower', 'newest', 'widest', 'widely', 'dogs', 'cats', 'happily', 'flying', 'quickly', 'running',\n",
    "               'was', 'i', 'am', 'disgusting', 'disgustingly', 'disgusted', 'disgust', 'disgusts', 'disgustable',\n",
    "               'disgustables', 'disgustably', 'disgustfulness', 'disgustfulness,']\n",
    "bpe_tokenizer = BPETokenizer(30)\n",
    "bpe_tokenizer.train(text_corpus)\n",
    "\n",
    "print(bpe_tokenizer.tokenize('disgusting'))\n",
    "print(bpe_tokenizer.tokenize('disgustingly'))\n",
    "print(bpe_tokenizer.tokenize('newest'))"
   ],
   "metadata": {
    "collapsed": false,
    "ExecuteTime": {
     "end_time": "2024-02-03T12:24:50.460507200Z",
     "start_time": "2024-02-03T12:24:50.308510100Z"
    }
   }
  },
  {
   "cell_type": "markdown",
   "metadata": {},
   "source": [
    "### Task 2.2. Analysis on Tweets Dataset (10 points)\n",
    "\n",
    "Train the BPE tokenizer on the tweets dataset. Try to tokenize the tweets with the tokenizer of different `vocab_size`. For example, train the BPE tokenizer with `vocab_size` of [base_vocab_size, 250, 500, 750, 1000]. Plot the dependency of the average length of the tokenized tweet by `vocab_size` to analyze how `vocab_size` affects the length of the tokenized tweet on average. Tell what `vocab_size` is preferrable and why."
   ]
  },
  {
   "cell_type": "code",
   "execution_count": 58,
   "metadata": {
    "ExecuteTime": {
     "end_time": "2024-02-03T12:24:50.461508100Z",
     "start_time": "2024-02-03T12:24:50.320513400Z"
    }
   },
   "outputs": [
    {
     "data": {
      "text/plain": "['@anitapuspasari waduh..',\n '\" Could journos please stop putting the word \"\"gate\"\" after everything they write... gate.\"',\n \"20% More Ridiculous Sale @20x200 ends tonight! - get 20% off by entering 'RIDONK' at checkout. More info: http://bit.ly/ridonktues\",\n \"@Studio85 I have a pair of those shoes. They are comfy. Like being barefoot. Okay for running, but not on concrete, as I've discovered.\",\n 'RT @twilightus Team Carlisle is a Trending Topic- help him out RT Follow @peterfacinelli see a grown man n a bikini dance Hollywood Blvd']"
     },
     "execution_count": 58,
     "metadata": {},
     "output_type": "execute_result"
    }
   ],
   "source": [
    "# read all files as txt files\n",
    "text_corpus = []\n",
    "for i in range(1, 6):\n",
    "    with open('file' + str(i), 'r') as f:\n",
    "        text_corpus += f.read().split('\\n')\n",
    "\n",
    "text_corpus[:5]"
   ]
  },
  {
   "cell_type": "code",
   "execution_count": 59,
   "outputs": [
    {
     "name": "stderr",
     "output_type": "stream",
     "text": [
      "100%|██████████| 7/7 [01:48<00:00, 15.55s/it]\n"
     ]
    }
   ],
   "source": [
    "# test the BPE tokenizer on the dataset\n",
    "sizes = [250, 500, 750, 1000, 1500, 2000, 3000]\n",
    "\n",
    "# avg_len_of_words - list of average length of tokenized tweets\n",
    "avg_len_of_words = []\n",
    "# tokenized_corpuses - list of tokenized tweets\n",
    "tokenized_corpuses = []\n",
    "\n",
    "for size in tqdm(sizes):\n",
    "    bpe_tokenizer = BPETokenizer(size)\n",
    "    bpe_tokenizer.train(text_corpus)\n",
    "\n",
    "    # tokenize the tweets\n",
    "    tokenized_corpus = []\n",
    "    for text in text_corpus:\n",
    "        tokenized_corpus.append(bpe_tokenizer.tokenize(text))\n",
    "\n",
    "    tokenized_corpuses.append(tokenized_corpus)\n",
    "\n",
    "    # calculate the average length of tokenized tweets\n",
    "    sum_len_of_words = 0\n",
    "    number_of_words = 0\n",
    "    for text in tokenized_corpus:\n",
    "        for word in text:\n",
    "            sum_len_of_words += len(word)\n",
    "            number_of_words += 1\n",
    "    avg_len_of_words.append(sum_len_of_words / number_of_words)"
   ],
   "metadata": {
    "collapsed": false,
    "ExecuteTime": {
     "end_time": "2024-02-03T12:26:39.200177400Z",
     "start_time": "2024-02-03T12:24:50.337513200Z"
    }
   }
  },
  {
   "cell_type": "code",
   "execution_count": 60,
   "outputs": [
    {
     "data": {
      "text/plain": "<Figure size 640x480 with 1 Axes>",
      "image/png": "[encoded data removed]"
     },
     "metadata": {},
     "output_type": "display_data"
    }
   ],
   "source": [
    "import matplotlib.pyplot as plt\n",
    "\n",
    "plt.plot(sizes, avg_len_of_words)\n",
    "plt.xlabel('vocab_size')\n",
    "plt.ylabel('avg_len')\n",
    "plt.show()"
   ],
   "metadata": {
    "collapsed": false,
    "ExecuteTime": {
     "end_time": "2024-02-03T12:26:39.342654300Z",
     "start_time": "2024-02-03T12:26:39.200177400Z"
    }
   }
  },
  {
   "cell_type": "code",
   "execution_count": 61,
   "outputs": [
    {
     "data": {
      "text/plain": "[1.569177389041492,\n 1.9647026880260656,\n 2.1998378597486825,\n 2.3949691085613414,\n 2.7168961201501878,\n 3.0407620114862026,\n 3.536080794917739]"
     },
     "execution_count": 61,
     "metadata": {},
     "output_type": "execute_result"
    }
   ],
   "source": [
    "avg_len_of_words"
   ],
   "metadata": {
    "collapsed": false,
    "ExecuteTime": {
     "end_time": "2024-02-03T12:26:39.426866200Z",
     "start_time": "2024-02-03T12:26:39.342654300Z"
    }
   }
  },
  {
   "cell_type": "code",
   "execution_count": 62,
   "outputs": [
    {
     "name": "stdout",
     "output_type": "stream",
     "text": [
      "[['@anitapuspasari_waduh..'], ['\"_Could_journos_please_stop_putting_the_word_\"\"gate\"\"_after_everything_they_write..._gate.\"'], [\"20%_More_Ridiculous_Sale_@20x200_ends_tonight!_-_get_20%_off_by_entering_'RIDONK'_at_checkout._More_info:_http://bit.ly/ridonktues\"]]\n"
     ]
    }
   ],
   "source": [
    "print(tokenized_corpuses[5][:3])"
   ],
   "metadata": {
    "collapsed": false,
    "ExecuteTime": {
     "end_time": "2024-02-03T12:26:39.426866200Z",
     "start_time": "2024-02-03T12:26:39.355654400Z"
    }
   }
  },
  {
   "cell_type": "markdown",
   "source": [
    "### The larger the vocab_size, the bigger the average length of the tokenized tweet. This is because the larger the vocab_size, the more unique tokens are in the vocabulary. So, we can merge more characters into one token. This is why the average length of the tokenized tweet increases with the increase of vocab_size."
   ],
   "metadata": {
    "collapsed": false
   }
  },
  {
   "cell_type": "markdown",
   "metadata": {},
   "source": [
    "### Task 2.3. Analysis on Dataset of Different Language (10 points)\n",
    "\n",
    "Find a small dataset of texts in a language other than English. The dataset size should be not greater than several megabytes.\n",
    "\n",
    "Train the BPE tokenizer on the dataset that you found. Try to tokenize the sentences from this dataset with the tokenizer of different `vocab_size`. Plot the dependency of the average length of the tokenized sentence by `vocab_size` to analyze how `vocab_size` affects the length of the tokenized sentence on average.\n",
    "\n",
    "Tell how how the average length of the tokenized sentence differs from the average length of the tokenized tweet. Explain why. "
   ]
  },
  {
   "cell_type": "code",
   "execution_count": 63,
   "metadata": {
    "ExecuteTime": {
     "end_time": "2024-02-03T12:26:39.426866200Z",
     "start_time": "2024-02-03T12:26:39.371654200Z"
    }
   },
   "outputs": [],
   "source": [
    "import pandas as pd"
   ]
  },
  {
   "cell_type": "code",
   "execution_count": 64,
   "outputs": [],
   "source": [
    "df = pd.read_csv('Translated Wikipedia Biographies - EN_DE.csv')"
   ],
   "metadata": {
    "collapsed": false,
    "ExecuteTime": {
     "end_time": "2024-02-03T12:26:39.428824800Z",
     "start_time": "2024-02-03T12:26:39.387656600Z"
    }
   }
  },
  {
   "cell_type": "code",
   "execution_count": 65,
   "outputs": [
    {
     "data": {
      "text/plain": "  sourceLanguage targetLanguage  documentID stringID  \\\n0             en             de           1      1-1   \n1             en             de           1      1-2   \n2             en             de           1      1-3   \n3             en             de           1      1-4   \n4             en             de           1      1-5   \n\n                                          sourceText  \\\n0  Kaisa-Leena Mäkäräinen (born 11 January 1983) ...   \n1  Outside sports, Mäkäräinen is currently studyi...   \n2  Her team coach is Jonne Kähkönen, while Jarmo ...   \n3  Mäkäräinen was originally a cross-country skie...   \n4     She started training for the biathlon in 2003.   \n\n                                      translatedText perceivedGender  \\\n0  Kaisa-Leena Mäkäräinen (geboren am 11. Januar ...          Female   \n1  Neben dem Sport studiert Mäkäräinen derzeit Ph...          Female   \n2  Ihr Mannschaftstrainer ist Jonne Kähkönen, Jar...          Female   \n3  Mäkäräinen war ursprünglich Langläuferin und k...          Female   \n4          Mit dem Biathlontraining begann sie 2003.          Female   \n\n         entityName                                          sourceURL  \n0  Kaisa Mäkäräinen  https://en.wikipedia.org/wiki/Kaisa_M%C3%A4k%C...  \n1  Kaisa Mäkäräinen  https://en.wikipedia.org/wiki/Kaisa_M%C3%A4k%C...  \n2  Kaisa Mäkäräinen  https://en.wikipedia.org/wiki/Kaisa_M%C3%A4k%C...  \n3  Kaisa Mäkäräinen  https://en.wikipedia.org/wiki/Kaisa_M%C3%A4k%C...  \n4  Kaisa Mäkäräinen  https://en.wikipedia.org/wiki/Kaisa_M%C3%A4k%C...  ",
      "text/html": "<div>\n<style scoped>\n    .dataframe tbody tr th:only-of-type {\n        vertical-align: middle;\n    }\n\n    .dataframe tbody tr th {\n        vertical-align: top;\n    }\n\n    .dataframe thead th {\n        text-align: right;\n    }\n</style>\n<table border=\"1\" class=\"dataframe\">\n  <thead>\n    <tr style=\"text-align: right;\">\n      <th></th>\n      <th>sourceLanguage</th>\n      <th>targetLanguage</th>\n      <th>documentID</th>\n      <th>stringID</th>\n      <th>sourceText</th>\n      <th>translatedText</th>\n      <th>perceivedGender</th>\n      <th>entityName</th>\n      <th>sourceURL</th>\n    </tr>\n  </thead>\n  <tbody>\n    <tr>\n      <th>0</th>\n      <td>en</td>\n      <td>de</td>\n      <td>1</td>\n      <td>1-1</td>\n      <td>Kaisa-Leena Mäkäräinen (born 11 January 1983) ...</td>\n      <td>Kaisa-Leena Mäkäräinen (geboren am 11. Januar ...</td>\n      <td>Female</td>\n      <td>Kaisa Mäkäräinen</td>\n      <td>https://en.wikipedia.org/wiki/Kaisa_M%C3%A4k%C...</td>\n    </tr>\n    <tr>\n      <th>1</th>\n      <td>en</td>\n      <td>de</td>\n      <td>1</td>\n      <td>1-2</td>\n      <td>Outside sports, Mäkäräinen is currently studyi...</td>\n      <td>Neben dem Sport studiert Mäkäräinen derzeit Ph...</td>\n      <td>Female</td>\n      <td>Kaisa Mäkäräinen</td>\n      <td>https://en.wikipedia.org/wiki/Kaisa_M%C3%A4k%C...</td>\n    </tr>\n    <tr>\n      <th>2</th>\n      <td>en</td>\n      <td>de</td>\n      <td>1</td>\n      <td>1-3</td>\n      <td>Her team coach is Jonne Kähkönen, while Jarmo ...</td>\n      <td>Ihr Mannschaftstrainer ist Jonne Kähkönen, Jar...</td>\n      <td>Female</td>\n      <td>Kaisa Mäkäräinen</td>\n      <td>https://en.wikipedia.org/wiki/Kaisa_M%C3%A4k%C...</td>\n    </tr>\n    <tr>\n      <th>3</th>\n      <td>en</td>\n      <td>de</td>\n      <td>1</td>\n      <td>1-4</td>\n      <td>Mäkäräinen was originally a cross-country skie...</td>\n      <td>Mäkäräinen war ursprünglich Langläuferin und k...</td>\n      <td>Female</td>\n      <td>Kaisa Mäkäräinen</td>\n      <td>https://en.wikipedia.org/wiki/Kaisa_M%C3%A4k%C...</td>\n    </tr>\n    <tr>\n      <th>4</th>\n      <td>en</td>\n      <td>de</td>\n      <td>1</td>\n      <td>1-5</td>\n      <td>She started training for the biathlon in 2003.</td>\n      <td>Mit dem Biathlontraining begann sie 2003.</td>\n      <td>Female</td>\n      <td>Kaisa Mäkäräinen</td>\n      <td>https://en.wikipedia.org/wiki/Kaisa_M%C3%A4k%C...</td>\n    </tr>\n  </tbody>\n</table>\n</div>"
     },
     "execution_count": 65,
     "metadata": {},
     "output_type": "execute_result"
    }
   ],
   "source": [
    "df.head()"
   ],
   "metadata": {
    "collapsed": false,
    "ExecuteTime": {
     "end_time": "2024-02-03T12:26:39.441822300Z",
     "start_time": "2024-02-03T12:26:39.422831600Z"
    }
   }
  },
  {
   "cell_type": "code",
   "execution_count": 66,
   "outputs": [
    {
     "data": {
      "text/plain": "'Kaisa-Leena Mäkäräinen (geboren am 11. Januar 1983) ist eine ehemalige Weltmeisterin und 3-malige Weltcup-Siegerin im Biathlon aus Finnland, die derzeit für Kontiolahden Urheilijat antritt.'"
     },
     "execution_count": 66,
     "metadata": {},
     "output_type": "execute_result"
    }
   ],
   "source": [
    "# take only translated texts and create a text corpus\n",
    "text_corpus = df['translatedText'].tolist()\n",
    "text_corpus[0]"
   ],
   "metadata": {
    "collapsed": false,
    "ExecuteTime": {
     "end_time": "2024-02-03T12:26:39.453826300Z",
     "start_time": "2024-02-03T12:26:39.433822200Z"
    }
   }
  },
  {
   "cell_type": "code",
   "execution_count": 67,
   "outputs": [
    {
     "name": "stderr",
     "output_type": "stream",
     "text": [
      "100%|██████████| 7/7 [13:23<00:00, 114.75s/it]\n"
     ]
    }
   ],
   "source": [
    "# test the BPE tokenizer on the dataset\n",
    "sizes = [250, 500, 750, 1000, 1500, 2000, 3000]\n",
    "avg_len_of_words = []\n",
    "tokenized_corpuses = []\n",
    "for size in tqdm(sizes):\n",
    "    bpe_tokenizer = BPETokenizer(size)\n",
    "    bpe_tokenizer.train(text_corpus)\n",
    "\n",
    "    tokenized_corpus = []\n",
    "    for text in text_corpus:\n",
    "        tokenized_corpus.append(bpe_tokenizer.tokenize(text))\n",
    "\n",
    "    tokenized_corpuses.append(tokenized_corpus)\n",
    "\n",
    "    sum_len_of_words = 0\n",
    "    number_of_words = 0\n",
    "    for text in tokenized_corpus:\n",
    "        for word in text:\n",
    "            sum_len_of_words += len(word)\n",
    "            number_of_words += 1\n",
    "    avg_len_of_words.append(sum_len_of_words / number_of_words)\n"
   ],
   "metadata": {
    "collapsed": false,
    "ExecuteTime": {
     "end_time": "2024-02-03T12:40:02.714650400Z",
     "start_time": "2024-02-03T12:26:39.451834200Z"
    }
   }
  },
  {
   "cell_type": "code",
   "execution_count": 68,
   "outputs": [
    {
     "data": {
      "text/plain": "<Figure size 640x480 with 1 Axes>",
      "image/png": "[encoded data removed]"
     },
     "metadata": {},
     "output_type": "display_data"
    }
   ],
   "source": [
    "plt.plot(sizes, avg_len_of_words)\n",
    "plt.xlabel('vocab_size')\n",
    "plt.ylabel('avg_len')\n",
    "plt.show()"
   ],
   "metadata": {
    "collapsed": false,
    "ExecuteTime": {
     "end_time": "2024-02-03T12:40:02.870649300Z",
     "start_time": "2024-02-03T12:40:02.719645700Z"
    }
   }
  },
  {
   "cell_type": "code",
   "execution_count": 69,
   "outputs": [
    {
     "data": {
      "text/plain": "[1.0,\n 1.8940281084260935,\n 2.261603977565826,\n 2.5118181264094592,\n 2.87805184647187,\n 3.1599957060483375,\n 3.604789895385046]"
     },
     "execution_count": 69,
     "metadata": {},
     "output_type": "execute_result"
    }
   ],
   "source": [
    "avg_len_of_words"
   ],
   "metadata": {
    "collapsed": false,
    "ExecuteTime": {
     "end_time": "2024-02-03T12:40:02.954643100Z",
     "start_time": "2024-02-03T12:40:02.873650200Z"
    }
   }
  },
  {
   "cell_type": "code",
   "execution_count": 70,
   "outputs": [
    {
     "name": "stdout",
     "output_type": "stream",
     "text": [
      "[['K', 'a', 'is', 'a-', 'Le', 'en', 'a_M', 'ä', 'k', 'ä', 'rä', 'in', 'en_', '(geboren_am_1', '1._', 'Januar_', '198', '3', ')_ist_eine_', 'ehem', 'alige_', 'Welt', 'm', 'eist', 'erin_und_', '3', '-m', 'alige_', 'Welt', 'c', 'u', 'p', '-', 'Si', 'eg', 'erin_', 'im_', 'Bi', 'ath', 'l', 'on_', 'aus_', 'Fin', 'n', 'land', ',_die_', 'derzeit_', 'für_', 'Kon', 'ti', 'ol', 'ah', 'den_', 'U', 'r', 'hei', 'li', 'j', 'at_', 'ant', 'rit', 't.'], ['N', 'eb', 'en_', 'dem_', 'Sp', 'ort_', 'studier', 't_', 'M', 'ä', 'k', 'ä', 'rä', 'in', 'en_', 'derzeit_', 'Ph', 'y', 'si', 'k_', 'auf_', 'Lehr', 'am', 't_', 'an_der_Universität_', 'O', 'st', 'f', 'inn', 'land_', 'in_', 'J', 'o', 'ens', 'u', 'u', '.'], ['Ihr_', 'M', 'ann', 'schaft', 'st', 'rain', 'er_', 'ist_', 'J', 'onn', 'e_', 'K', 'äh', 'k', 'ön', 'en,_', 'J', 'ar', 'm', 'o_', 'P', 'unk', 'k', 'in', 'en_', 'ist_', 'ihr_', 'S', 'k', 'it', 'rain', 'er.']]\n"
     ]
    }
   ],
   "source": [
    "print(tokenized_corpuses[5][:3])"
   ],
   "metadata": {
    "collapsed": false,
    "ExecuteTime": {
     "end_time": "2024-02-03T12:40:02.955645700Z",
     "start_time": "2024-02-03T12:40:02.887643600Z"
    }
   }
  },
  {
   "cell_type": "markdown",
   "source": [
    "### The average length of words for this dataset is larger than for the tweets dataset. This is because the average length of words in the German language is larger than in the English language and tweets contain a lot of abbreviations and slang. "
   ],
   "metadata": {
    "collapsed": false
   }
  },
  {
   "cell_type": "code",
   "execution_count": null,
   "outputs": [],
   "source": [],
   "metadata": {
    "collapsed": false
   }
  }
 ],
 "metadata": {
  "colab": {
   "provenance": [],
   "toc_visible": true
  },
  "kernelspec": {
   "name": "python3",
   "language": "python",
   "display_name": "Python 3 (ipykernel)"
  },
  "language_info": {
   "name": "python"
  }
 },
 "nbformat": 4,
 "nbformat_minor": 0
}
